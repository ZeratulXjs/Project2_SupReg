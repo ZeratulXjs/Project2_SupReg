{
 "metadata": {
  "language_info": {
   "codemirror_mode": {
    "name": "ipython",
    "version": 3
   },
   "file_extension": ".py",
   "mimetype": "text/x-python",
   "name": "python",
   "nbconvert_exporter": "python",
   "pygments_lexer": "ipython3",
   "version": "3.8.5-final"
  },
  "orig_nbformat": 2,
  "kernelspec": {
   "name": "python3",
   "display_name": "Python 3",
   "language": "python"
  }
 },
 "nbformat": 4,
 "nbformat_minor": 2,
 "cells": [
  {
   "source": [
    "# Supervised Learning : Regression\n",
    "## Peer Review Project 2\n",
    "\n",
    "This project uses the publically available **IBM HR Analytics Employee Attrition & Performance** data hosted on Kaggle \n",
    "\n",
    "[https://www.kaggle.com/pavansubhasht/ibm-hr-analytics-attrition-dataset](https://www.kaggle.com/pavansubhasht/ibm-hr-analytics-attrition-dataset)\n",
    "\n",
    "---\n",
    "\n",
    "# Report Summary\n",
    "\n",
    "This is a report on the application of various linear regression models in an attempt to predict the attrition of employees basing on the available performance data about them. \n",
    "\n",
    "## Data set details\n",
    "\n",
    "- The data set contains *1470 observations* with *35 features*. \n",
    "- 9 features contain categorical data (object)\n",
    "\n",
    "    `Attrition, BusinessTravel, Department, EducationField, Gender, JobRole, MaritalStatus, Over18, OverTime`\n",
    "\n",
    "- 26 features contain numerical data (int64)\n",
    "\n",
    "    `Age,  DailyRate, DistanceFromHome, Education,  EmployeeCount, EmployeeNumber, EnvironmentSatisfaction,  HourlyRate, JobInvolvement, JobLevel, JobSatisfaction, MonthlyIncome, MonthlyRate, NumCompaniesWorked, PercentSalaryHike, PerformanceRating, RelationshipSatisfaction, StandardHours, StockOptionLevel, TotalWorkingYears, TrainingTimesLastYear, WorkLifeBalance, YearsAtCompany, YearsInCurrentRole, YearsSinceLastPromotion, YearsWithCurrManager`\n",
    "\n",
    "## Objectives\n",
    "\n",
    "1. To train and test several machine learning models on this data set to predict employee attrition\n",
    "2. To select the best hyperparameters and regularization methods for each model basing on coefficent scores.\n",
    "3. To select the best ML model appropriate for this data basing on complexity and mean squared error scores.\n",
    "\n",
    "# Methodology\n",
    "\n",
    "## Linear regression models and regularization methods used \n",
    "\n",
    "This project tests out linear, LASSO, Ridge and Elastic net regression models with their associated L2 and L1 regularization methods.\n",
    "\n",
    "\n",
    "## Data preparation and analysis methods \n",
    "1. Prediction feature is 'Attrition'. We are interested in predicting this feature.\n",
    "2. All categorical features are one hot encoded to make them useable in modeling. \n",
    "3. Numerical features are tested for normality and appropriately transformed.\n",
    "4. Analysis pipelines with scaling, grid searching and cross validation with 3 k-folds (25% testing data) on the selected models are run.\n",
    "\n",
    "## Results \n",
    "1. Most informative features of the dataset \n",
    "2. General performance of models\n",
    "3. Best performing model\n",
    "\n",
    "\n",
    "## Conclusion \n",
    "1. Model selection for this dataset, appropriate hyper parameters and regularization method\n",
    "2. Flaws in the dataset\n",
    "2. Flaws in the model/objectives\n",
    "3. Way forward"
   ],
   "cell_type": "markdown",
   "metadata": {}
  },
  {
   "source": [
    "\n",
    "---\n",
    "\n",
    "# Code below this point\n",
    "\n",
    "Beyond this point is the code used in the project detailing the analysis summarised in the section above. "
   ],
   "cell_type": "markdown",
   "metadata": {}
  },
  {
   "cell_type": "code",
   "execution_count": null,
   "metadata": {},
   "outputs": [],
   "source": [
    "# Import modules\n",
    "\n",
    "%pylab inline\n",
    "%config InlineBackend.figure_formats = ['retina']\n",
    "\n",
    "import os\n",
    "import numpy as np\n",
    "import pandas as pd\n",
    "import matplotlib.pyplot as plt\n",
    "import seaborn as sns\n",
    "sns.set()"
   ]
  },
  {
   "cell_type": "code",
   "execution_count": null,
   "metadata": {},
   "outputs": [],
   "source": [
    "# Importing data\n",
    "data = pd.read_csv('IBM_employee_data.csv')\n",
    "data.info()"
   ]
  },
  {
   "cell_type": "code",
   "execution_count": null,
   "metadata": {},
   "outputs": [],
   "source": [
    "data.dtypes.value_counts()"
   ]
  },
  {
   "cell_type": "code",
   "execution_count": null,
   "metadata": {},
   "outputs": [],
   "source": [
    "data.head()"
   ]
  },
  {
   "source": [
    "Review the categorical features to determine which have more than one category so that we one hot encode them. "
   ],
   "cell_type": "markdown",
   "metadata": {}
  },
  {
   "cell_type": "code",
   "execution_count": 26,
   "metadata": {},
   "outputs": [],
   "source": [
    "# Select the object (string) columns\n",
    "mask = data.dtypes == np.object"
   ]
  },
  {
   "cell_type": "code",
   "execution_count": 27,
   "metadata": {},
   "outputs": [
    {
     "output_type": "execute_result",
     "data": {
      "text/plain": [
       "Age                         False\n",
       "Attrition                    True\n",
       "BusinessTravel               True\n",
       "DailyRate                   False\n",
       "Department                   True\n",
       "DistanceFromHome            False\n",
       "Education                   False\n",
       "EducationField               True\n",
       "EmployeeCount               False\n",
       "EmployeeNumber              False\n",
       "EnvironmentSatisfaction     False\n",
       "Gender                       True\n",
       "HourlyRate                  False\n",
       "JobInvolvement              False\n",
       "JobLevel                    False\n",
       "JobRole                      True\n",
       "JobSatisfaction             False\n",
       "MaritalStatus                True\n",
       "MonthlyIncome               False\n",
       "MonthlyRate                 False\n",
       "NumCompaniesWorked          False\n",
       "Over18                       True\n",
       "OverTime                     True\n",
       "PercentSalaryHike           False\n",
       "PerformanceRating           False\n",
       "RelationshipSatisfaction    False\n",
       "StandardHours               False\n",
       "StockOptionLevel            False\n",
       "TotalWorkingYears           False\n",
       "TrainingTimesLastYear       False\n",
       "WorkLifeBalance             False\n",
       "YearsAtCompany              False\n",
       "YearsInCurrentRole          False\n",
       "YearsSinceLastPromotion     False\n",
       "YearsWithCurrManager        False\n",
       "dtype: bool"
      ]
     },
     "metadata": {},
     "execution_count": 27
    }
   ],
   "source": [
    "mask"
   ]
  },
  {
   "cell_type": "code",
   "execution_count": 28,
   "metadata": {},
   "outputs": [
    {
     "output_type": "execute_result",
     "data": {
      "text/plain": [
       "Age                         False\n",
       "BusinessTravel               True\n",
       "DailyRate                   False\n",
       "Department                   True\n",
       "DistanceFromHome            False\n",
       "Education                   False\n",
       "EducationField               True\n",
       "EmployeeCount               False\n",
       "EmployeeNumber              False\n",
       "EnvironmentSatisfaction     False\n",
       "Gender                       True\n",
       "HourlyRate                  False\n",
       "JobInvolvement              False\n",
       "JobLevel                    False\n",
       "JobRole                      True\n",
       "JobSatisfaction             False\n",
       "MaritalStatus                True\n",
       "MonthlyIncome               False\n",
       "MonthlyRate                 False\n",
       "NumCompaniesWorked          False\n",
       "Over18                       True\n",
       "OverTime                     True\n",
       "PercentSalaryHike           False\n",
       "PerformanceRating           False\n",
       "RelationshipSatisfaction    False\n",
       "StandardHours               False\n",
       "StockOptionLevel            False\n",
       "TotalWorkingYears           False\n",
       "TrainingTimesLastYear       False\n",
       "WorkLifeBalance             False\n",
       "YearsAtCompany              False\n",
       "YearsInCurrentRole          False\n",
       "YearsSinceLastPromotion     False\n",
       "YearsWithCurrManager        False\n",
       "dtype: bool"
      ]
     },
     "metadata": {},
     "execution_count": 28
    }
   ],
   "source": [
    "mask.drop(mask.index[1])"
   ]
  },
  {
   "cell_type": "code",
   "execution_count": 29,
   "metadata": {},
   "outputs": [],
   "source": [
    "categorical_cols = data.columns[mask]\n",
    "\n",
    "# Determine how many extra columns would be created\n",
    "num_ohc_cols = (data[categorical_cols]\n",
    "                .apply(lambda x: x.nunique())\n",
    "                .sort_values(ascending=False))\n"
   ]
  },
  {
   "source": [],
   "cell_type": "markdown",
   "metadata": {}
  },
  {
   "cell_type": "code",
   "execution_count": 30,
   "metadata": {},
   "outputs": [],
   "source": [
    "from sklearn.preprocessing import OneHotEncoder, LabelEncoder\n",
    "\n",
    "# Copy of the data\n",
    "data_ohc = data.copy()\n",
    "\n",
    "# The encoders\n",
    "le = LabelEncoder()\n",
    "ohc = OneHotEncoder()\n",
    "\n",
    "for col in num_ohc_cols.index:\n",
    "    # Integer encode the string categories\n",
    "    dat = le.fit_transform(data_ohc[col]).astype(np.int)\n",
    "    \n",
    "    # Remove the original column from the dataframe\n",
    "    data_ohc = data_ohc.drop(col, axis=1)\n",
    "\n",
    "    # One hot encode the data--this returns a sparse array\n",
    "    new_dat = ohc.fit_transform(dat.reshape(-1,1))\n",
    "\n",
    "    # Create unique column names\n",
    "    n_cols = new_dat.shape[1]\n",
    "    col_names = ['_'.join([col, str(x)]) for x in range(n_cols)]\n",
    "\n",
    "    # Create the new dataframe\n",
    "    new_df = pd.DataFrame(new_dat.toarray(), \n",
    "                          index=data_ohc.index, \n",
    "                          columns=col_names)\n",
    "\n",
    "    # Append the new data to the dataframe\n",
    "    data_ohc = pd.concat([data_ohc, new_df], axis=1)"
   ]
  },
  {
   "cell_type": "code",
   "execution_count": 31,
   "metadata": {},
   "outputs": [
    {
     "output_type": "stream",
     "name": "stdout",
     "text": [
      "35\n26\n"
     ]
    }
   ],
   "source": [
    "print(data.shape[1])\n",
    "\n",
    "# Remove the string columns from the dataframe\n",
    "data = data.drop(num_ohc_cols.index, axis=1)\n",
    "\n",
    "print(data.shape[1])"
   ]
  },
  {
   "cell_type": "code",
   "execution_count": 32,
   "metadata": {},
   "outputs": [
    {
     "output_type": "stream",
     "name": "stdout",
     "text": [
      "<class 'pandas.core.frame.DataFrame'>\nRangeIndex: 1470 entries, 0 to 1469\nData columns (total 26 columns):\n #   Column                    Non-Null Count  Dtype\n---  ------                    --------------  -----\n 0   Age                       1470 non-null   int64\n 1   DailyRate                 1470 non-null   int64\n 2   DistanceFromHome          1470 non-null   int64\n 3   Education                 1470 non-null   int64\n 4   EmployeeCount             1470 non-null   int64\n 5   EmployeeNumber            1470 non-null   int64\n 6   EnvironmentSatisfaction   1470 non-null   int64\n 7   HourlyRate                1470 non-null   int64\n 8   JobInvolvement            1470 non-null   int64\n 9   JobLevel                  1470 non-null   int64\n 10  JobSatisfaction           1470 non-null   int64\n 11  MonthlyIncome             1470 non-null   int64\n 12  MonthlyRate               1470 non-null   int64\n 13  NumCompaniesWorked        1470 non-null   int64\n 14  PercentSalaryHike         1470 non-null   int64\n 15  PerformanceRating         1470 non-null   int64\n 16  RelationshipSatisfaction  1470 non-null   int64\n 17  StandardHours             1470 non-null   int64\n 18  StockOptionLevel          1470 non-null   int64\n 19  TotalWorkingYears         1470 non-null   int64\n 20  TrainingTimesLastYear     1470 non-null   int64\n 21  WorkLifeBalance           1470 non-null   int64\n 22  YearsAtCompany            1470 non-null   int64\n 23  YearsInCurrentRole        1470 non-null   int64\n 24  YearsSinceLastPromotion   1470 non-null   int64\n 25  YearsWithCurrManager      1470 non-null   int64\ndtypes: int64(26)\nmemory usage: 298.7 KB\n"
     ]
    }
   ],
   "source": [
    "data.info()"
   ]
  },
  {
   "cell_type": "code",
   "execution_count": null,
   "metadata": {},
   "outputs": [],
   "source": []
  }
 ]
}