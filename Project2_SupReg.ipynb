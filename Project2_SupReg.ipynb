{
 "metadata": {
  "language_info": {
   "codemirror_mode": {
    "name": "ipython",
    "version": 3
   },
   "file_extension": ".py",
   "mimetype": "text/x-python",
   "name": "python",
   "nbconvert_exporter": "python",
   "pygments_lexer": "ipython3",
   "version": 3
  },
  "orig_nbformat": 2
 },
 "nbformat": 4,
 "nbformat_minor": 2,
 "cells": [
  {
   "source": [
    "# Supervised Learning : Regression\n",
    "## Peer Review Project 2\n",
    "\n",
    "This project uses the publically available **IBM HR Analytics Employee Attrition & Performance** hosted on Kaggle \n",
    "\n",
    "[https://www.kaggle.com/pavansubhasht/ibm-hr-analytics-attrition-dataset](https://www.kaggle.com/pavansubhasht/ibm-hr-analytics-attrition-dataset)\n",
    "\n",
    "---\n",
    "\n",
    "## Report Summary\n",
    "\n",
    "This is a report on the application of various linear regression models in an attempt to predict the attrition of employees basing on their performance data. \n",
    "\n",
    "### Data set details\n",
    "\n",
    "\n",
    "\n",
    "### Objectives \n",
    "\n",
    "\n",
    "\n",
    "### Linear regression models used in the project\n",
    "\n",
    "\n",
    "\n",
    "\n",
    "### Results \n",
    "1. Most informative features of the dataset \n",
    "2. Best performing model \n",
    "3. General performance of models\n",
    "\n",
    "\n",
    "### Conclusion \n",
    "1. Flaws in the dataset\n",
    "2. Flaws in the model/Objectives"
   ],
   "cell_type": "markdown",
   "metadata": {}
  },
  {
   "source": [
    "\n",
    "---\n",
    "\n",
    "# Code below this point\n",
    "\n",
    "Beyond this point is the code used in the project for details of the analysis summarised in the section above. "
   ],
   "cell_type": "markdown",
   "metadata": {}
  },
  {
   "cell_type": "code",
   "execution_count": null,
   "metadata": {},
   "outputs": [],
   "source": []
  }
 ]
}